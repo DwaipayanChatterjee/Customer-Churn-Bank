{
 "cells": [
  {
   "cell_type": "code",
   "execution_count": 5,
   "metadata": {},
   "outputs": [],
   "source": [
    "import streamlit as st\n",
    "import pandas as pd\n",
    "import numpy as np\n",
    "import joblib\n",
    "\n",
    "\n",
    "def main():\n",
    "    st.title(\"Bank Customers Churn\")\n",
    "    html_temp = \"\"\"\n",
    "        <div style=\"background:#025246 ;padding:10px\">\n",
    "        <h2 style=\"color:white;text-align:center;\">Bank Churn Prediction ML App </h2>\n",
    "        </div>\n",
    "        \"\"\"\n",
    "    st.markdown(html_temp, unsafe_allow_html = True)\n",
    "\n",
    "    CustomerId = st.number_input(\"CustomerId\", 0)\n",
    "    CreditScore = st.number_input(\"CreditScore\", 0)\n",
    "    Age = st.slider(\"Age\", 10, 100)\n",
    "    Tenure = st.selectbox(\"Tenure\", [0, 1, 2, 3, 4, 5, 6, 7, 8, 9, 10])\n",
    "    Balance = st.number_input(\"Balance\", 0)\n",
    "    NumOfProducts = st.selectbox(\"NumOfProducts\", [1, 2, 3, 4])\n",
    "    HasChckng = st.selectbox(\"HasCrCard\", [0, 1])\n",
    "    IsActiveMember = st.selectbox(\"IsActiveMember\", [0, 1])\n",
    "    EstimatedSalary = st.number_input(\"EstimatedSalary\", 0)\n",
    "    Geography = st.selectbox(\"Geography\", [\"Central\", \"East\", \"West\"])\n",
    "    Gender = st.selectbox(\"Gender\", [\"Male\", \"Female\"])\n",
    "\n",
    "    if st.button(\"Predict\"):\n",
    "        row = np.array([CreditScore, Age, Tenure, Balance, NumOfProducts, HasChckng, IsActiveMember, EstimatedSalary, Geography, Gender])\n",
    "        X = pd.DataFrame([row], columns = features)\n",
    "        predictions = None\n",
    "        threshold = 0.5\n",
    "\n",
    "        cat_model = joblib.load(\"CAT_Model.pkl\")\n",
    "        predictions = cat_model.predict(X)[:, 1]\n",
    "\n",
    "        if predictions > threshold:\n",
    "            st.success(f\"Predicted Probability : {output}. \\nThis customer is likely to churn :thumbsdown:\")\n",
    "        else:\n",
    "            st.success(f\"Predicted Probability : {output}. \\nThis customer isn't likely to churn :thumbsup:\")\n",
    "\n",
    "if __name__=='__main__': \n",
    "    main()"
   ]
  },
  {
   "cell_type": "code",
   "execution_count": null,
   "metadata": {},
   "outputs": [],
   "source": []
  }
 ],
 "metadata": {
  "kernelspec": {
   "display_name": "Python 3",
   "language": "python",
   "name": "python3"
  },
  "language_info": {
   "codemirror_mode": {
    "name": "ipython",
    "version": 3
   },
   "file_extension": ".py",
   "mimetype": "text/x-python",
   "name": "python",
   "nbconvert_exporter": "python",
   "pygments_lexer": "ipython3",
   "version": "3.8.5"
  }
 },
 "nbformat": 4,
 "nbformat_minor": 4
}
